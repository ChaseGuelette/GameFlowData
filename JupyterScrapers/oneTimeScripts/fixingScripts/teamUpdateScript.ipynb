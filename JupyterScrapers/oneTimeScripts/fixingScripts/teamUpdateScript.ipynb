{
 "cells": [
  {
   "cell_type": "code",
   "execution_count": null,
   "id": "a96943c2-f5a1-4a30-8a73-b0a6e311b8d3",
   "metadata": {},
   "outputs": [],
   "source": [
    "from sqlalchemy import create_engine, text\n",
    "import pandas as pd\n",
    "\n",
    "def get_team_mapping(engine):\n",
    "    \"\"\"Get mapping of team abbreviations to team IDs from all_teams_misc_stats\"\"\"\n",
    "    query = \"SELECT TEAM_ID, TEAM_ABBREVIATION FROM all_teams_misc_stats\"\n",
    "    with engine.connect() as conn:\n",
    "        team_mapping = pd.read_sql(query, conn)\n",
    "    return dict(zip(team_mapping['TEAM_ABBREVIATION'], team_mapping['TEAM_ID']))\n",
    "\n",
    "def parse_team_from_matchup(matchup, is_home):\n",
    "    \"\"\"Extract team abbreviation from MATCHUP string\n",
    "    Example: 'PHI vs. HOU' or 'PHI @ HOU'\"\"\"\n",
    "    teams = matchup.replace(' vs. ', ' @ ').split(' @ ')\n",
    "    return teams[0] if is_home else teams[1]\n",
    "\n",
    "def update_team_ids(engine):\n",
    "    # Get team ID mapping\n",
    "    team_mapping = get_team_mapping(engine)\n",
    "    \n",
    "    # Get existing game stats\n",
    "    query = \"SELECT * FROM all_player_game_stats\"\n",
    "    with engine.connect() as conn:\n",
    "        games_df = pd.read_sql(query, conn)\n",
    "    \n",
    "    # Parse team from MATCHUP\n",
    "    games_df['Team_ID'] = games_df.apply(\n",
    "        lambda row: team_mapping[parse_team_from_matchup(\n",
    "            row['MATCHUP'], \n",
    "            '@' not in row['MATCHUP']  # Check if home game\n",
    "        )], \n",
    "        axis=1\n",
    "    )\n",
    "    \n",
    "    # Update database with team IDs\n",
    "    with engine.connect() as conn:\n",
    "        for index, row in games_df.iterrows():\n",
    "            update_query = text(\"\"\"\n",
    "                UPDATE all_player_game_stats\n",
    "                SET \"Team_ID\" = :team_id\n",
    "                WHERE \"PLAYER_ID\" = :player_id\n",
    "                AND \"GAME_DATE\" = :game_date\n",
    "            \"\"\")\n",
    "            conn.execute(update_query, {\n",
    "                'team_id': row['Team_ID'],\n",
    "                'player_id': row['PLAYER_ID'],\n",
    "                'game_date': row['GAME_DATE']\n",
    "            })"
   ]
  },
  {
   "cell_type": "code",
   "execution_count": 10,
   "id": "d07fac3c-ad6e-45fd-b919-9d2001cbdd76",
   "metadata": {},
   "outputs": [
    {
     "name": "stdout",
     "output_type": "stream",
     "text": [
      "[{'id': 1610612737, 'full_name': 'Atlanta Hawks', 'abbreviation': 'ATL', 'nickname': 'Hawks', 'city': 'Atlanta', 'state': 'Georgia', 'year_founded': 1949}, {'id': 1610612738, 'full_name': 'Boston Celtics', 'abbreviation': 'BOS', 'nickname': 'Celtics', 'city': 'Boston', 'state': 'Massachusetts', 'year_founded': 1946}, {'id': 1610612739, 'full_name': 'Cleveland Cavaliers', 'abbreviation': 'CLE', 'nickname': 'Cavaliers', 'city': 'Cleveland', 'state': 'Ohio', 'year_founded': 1970}, {'id': 1610612740, 'full_name': 'New Orleans Pelicans', 'abbreviation': 'NOP', 'nickname': 'Pelicans', 'city': 'New Orleans', 'state': 'Louisiana', 'year_founded': 2002}, {'id': 1610612741, 'full_name': 'Chicago Bulls', 'abbreviation': 'CHI', 'nickname': 'Bulls', 'city': 'Chicago', 'state': 'Illinois', 'year_founded': 1966}, {'id': 1610612742, 'full_name': 'Dallas Mavericks', 'abbreviation': 'DAL', 'nickname': 'Mavericks', 'city': 'Dallas', 'state': 'Texas', 'year_founded': 1980}, {'id': 1610612743, 'full_name': 'Denver Nuggets', 'abbreviation': 'DEN', 'nickname': 'Nuggets', 'city': 'Denver', 'state': 'Colorado', 'year_founded': 1976}, {'id': 1610612744, 'full_name': 'Golden State Warriors', 'abbreviation': 'GSW', 'nickname': 'Warriors', 'city': 'Golden State', 'state': 'California', 'year_founded': 1946}, {'id': 1610612745, 'full_name': 'Houston Rockets', 'abbreviation': 'HOU', 'nickname': 'Rockets', 'city': 'Houston', 'state': 'Texas', 'year_founded': 1967}, {'id': 1610612746, 'full_name': 'Los Angeles Clippers', 'abbreviation': 'LAC', 'nickname': 'Clippers', 'city': 'Los Angeles', 'state': 'California', 'year_founded': 1970}, {'id': 1610612747, 'full_name': 'Los Angeles Lakers', 'abbreviation': 'LAL', 'nickname': 'Lakers', 'city': 'Los Angeles', 'state': 'California', 'year_founded': 1948}, {'id': 1610612748, 'full_name': 'Miami Heat', 'abbreviation': 'MIA', 'nickname': 'Heat', 'city': 'Miami', 'state': 'Florida', 'year_founded': 1988}, {'id': 1610612749, 'full_name': 'Milwaukee Bucks', 'abbreviation': 'MIL', 'nickname': 'Bucks', 'city': 'Milwaukee', 'state': 'Wisconsin', 'year_founded': 1968}, {'id': 1610612750, 'full_name': 'Minnesota Timberwolves', 'abbreviation': 'MIN', 'nickname': 'Timberwolves', 'city': 'Minnesota', 'state': 'Minnesota', 'year_founded': 1989}, {'id': 1610612751, 'full_name': 'Brooklyn Nets', 'abbreviation': 'BKN', 'nickname': 'Nets', 'city': 'Brooklyn', 'state': 'New York', 'year_founded': 1976}, {'id': 1610612752, 'full_name': 'New York Knicks', 'abbreviation': 'NYK', 'nickname': 'Knicks', 'city': 'New York', 'state': 'New York', 'year_founded': 1946}, {'id': 1610612753, 'full_name': 'Orlando Magic', 'abbreviation': 'ORL', 'nickname': 'Magic', 'city': 'Orlando', 'state': 'Florida', 'year_founded': 1989}, {'id': 1610612754, 'full_name': 'Indiana Pacers', 'abbreviation': 'IND', 'nickname': 'Pacers', 'city': 'Indiana', 'state': 'Indiana', 'year_founded': 1976}, {'id': 1610612755, 'full_name': 'Philadelphia 76ers', 'abbreviation': 'PHI', 'nickname': '76ers', 'city': 'Philadelphia', 'state': 'Pennsylvania', 'year_founded': 1949}, {'id': 1610612756, 'full_name': 'Phoenix Suns', 'abbreviation': 'PHX', 'nickname': 'Suns', 'city': 'Phoenix', 'state': 'Arizona', 'year_founded': 1968}, {'id': 1610612757, 'full_name': 'Portland Trail Blazers', 'abbreviation': 'POR', 'nickname': 'Trail Blazers', 'city': 'Portland', 'state': 'Oregon', 'year_founded': 1970}, {'id': 1610612758, 'full_name': 'Sacramento Kings', 'abbreviation': 'SAC', 'nickname': 'Kings', 'city': 'Sacramento', 'state': 'California', 'year_founded': 1948}, {'id': 1610612759, 'full_name': 'San Antonio Spurs', 'abbreviation': 'SAS', 'nickname': 'Spurs', 'city': 'San Antonio', 'state': 'Texas', 'year_founded': 1976}, {'id': 1610612760, 'full_name': 'Oklahoma City Thunder', 'abbreviation': 'OKC', 'nickname': 'Thunder', 'city': 'Oklahoma City', 'state': 'Oklahoma', 'year_founded': 1967}, {'id': 1610612761, 'full_name': 'Toronto Raptors', 'abbreviation': 'TOR', 'nickname': 'Raptors', 'city': 'Toronto', 'state': 'Ontario', 'year_founded': 1995}, {'id': 1610612762, 'full_name': 'Utah Jazz', 'abbreviation': 'UTA', 'nickname': 'Jazz', 'city': 'Utah', 'state': 'Utah', 'year_founded': 1974}, {'id': 1610612763, 'full_name': 'Memphis Grizzlies', 'abbreviation': 'MEM', 'nickname': 'Grizzlies', 'city': 'Memphis', 'state': 'Tennessee', 'year_founded': 1995}, {'id': 1610612764, 'full_name': 'Washington Wizards', 'abbreviation': 'WAS', 'nickname': 'Wizards', 'city': 'Washington', 'state': 'District of Columbia', 'year_founded': 1961}, {'id': 1610612765, 'full_name': 'Detroit Pistons', 'abbreviation': 'DET', 'nickname': 'Pistons', 'city': 'Detroit', 'state': 'Michigan', 'year_founded': 1948}, {'id': 1610612766, 'full_name': 'Charlotte Hornets', 'abbreviation': 'CHA', 'nickname': 'Hornets', 'city': 'Charlotte', 'state': 'North Carolina', 'year_founded': 1988}]\n",
      "\n",
      "{'ATL': 1610612737, 'BOS': 1610612738, 'CLE': 1610612739, 'NOP': 1610612740, 'CHI': 1610612741, 'DAL': 1610612742, 'DEN': 1610612743, 'GSW': 1610612744, 'HOU': 1610612745, 'LAC': 1610612746, 'LAL': 1610612747, 'MIA': 1610612748, 'MIL': 1610612749, 'MIN': 1610612750, 'BKN': 1610612751, 'NYK': 1610612752, 'ORL': 1610612753, 'IND': 1610612754, 'PHI': 1610612755, 'PHX': 1610612756, 'POR': 1610612757, 'SAC': 1610612758, 'SAS': 1610612759, 'OKC': 1610612760, 'TOR': 1610612761, 'UTA': 1610612762, 'MEM': 1610612763, 'WAS': 1610612764, 'DET': 1610612765, 'CHA': 1610612766}\n"
     ]
    }
   ],
   "source": [
    "from nba_api.stats.static import teams\n",
    "\n",
    "nba_teams = teams.get_teams()\n",
    "print(nba_teams)\n",
    "\n",
    "team_pairs = {}\n",
    "\n",
    "for team in nba_teams:\n",
    "    team_pairs[team['abbreviation']] = team['id']\n",
    "print()\n",
    "print(team_pairs)"
   ]
  },
  {
   "cell_type": "code",
   "execution_count": 2,
   "id": "3579acf7-2369-48bf-9616-340217af27fd",
   "metadata": {},
   "outputs": [],
   "source": [
    "from nba_api.stats.static import teams\n",
    "import pandas as pd\n",
    "from sqlalchemy import create_engine, text\n",
    "\n",
    "\n",
    "def parse_team_from_matchup(matchup, is_home):\n",
    "    \"\"\"Extract team abbreviation from MATCHUP string\n",
    "    Example: 'PHI vs. HOU' or 'PHI @ HOU'\"\"\"\n",
    "    teams = matchup.replace(' vs. ', ' @ ').split(' @ ')\n",
    "    return teams[0] if is_home else teams[1]\n",
    "    \n",
    "def update_team_ids(engine):\n",
    "\n",
    "    team_mapping = {}\n",
    "    nba_teams = teams.get_teams()\n",
    "    for team in nba_teams:\n",
    "        team_mapping[team['abbreviation']] = team['id']\n",
    "\n",
    "    print(\"Got team mappings...\")\n",
    "    \n",
    "    query = \"SELECT * FROM all_player_game_stats\"\n",
    "    with engine.connect() as conn:\n",
    "        print(\"Fetching games from database...\")\n",
    "        games_df = pd.read_sql(query, conn)\n",
    "\n",
    "    print(f\"Processing {len(games_df)} records...\")\n",
    "    \n",
    "    games_df['TEAM_ID'] = games_df.apply(  # Changed to TEAM_ID to match column name\n",
    "        lambda row: team_mapping[parse_team_from_matchup(\n",
    "            row['MATCHUP'], \n",
    "            '@' not in row['MATCHUP']\n",
    "        )], \n",
    "        axis=1\n",
    "    )\n",
    "\n",
    "        # Update database with team IDs\n",
    "    with engine.connect() as conn:\n",
    "        with conn.begin():\n",
    "            for index, row in games_df.iterrows():\n",
    "                update_query = text(\"\"\"\n",
    "                    UPDATE all_player_game_stats\n",
    "                    SET \"TEAM_ID\" = :team_id\n",
    "                    WHERE \"PLAYER_ID\" = :player_id\n",
    "                    AND \"GAME_DATE\" = :game_date\n",
    "                \"\"\")\n",
    "                conn.execute(update_query, {\n",
    "                    'team_id': row['TEAM_ID'],\n",
    "                    'player_id': row['PLAYER_ID'],\n",
    "                    'game_date': row['GAME_DATE']\n",
    "                })\n",
    "                if index % 1000 == 0:\n",
    "                    print(f\"Updated {index} records...\")\n",
    "    print(\"Update complete!\")"
   ]
  },
  {
   "cell_type": "code",
   "execution_count": 1,
   "id": "1c7aec08-7646-49f0-9183-da1e99e8d618",
   "metadata": {},
   "outputs": [
    {
     "ename": "NameError",
     "evalue": "name 'update_team_ids' is not defined",
     "output_type": "error",
     "traceback": [
      "\u001b[1;31m---------------------------------------------------------------------------\u001b[0m",
      "\u001b[1;31mNameError\u001b[0m                                 Traceback (most recent call last)",
      "Cell \u001b[1;32mIn[1], line 12\u001b[0m\n\u001b[0;32m      8\u001b[0m DATABASE_URL \u001b[38;5;241m=\u001b[39m os\u001b[38;5;241m.\u001b[39mgetenv(\u001b[38;5;124m\"\u001b[39m\u001b[38;5;124mDATABASE_URL\u001b[39m\u001b[38;5;124m\"\u001b[39m)\n\u001b[0;32m     10\u001b[0m engine \u001b[38;5;241m=\u001b[39m create_engine(DATABASE_URL)\n\u001b[1;32m---> 12\u001b[0m update_team_ids(engine)\n",
      "\u001b[1;31mNameError\u001b[0m: name 'update_team_ids' is not defined"
     ]
    }
   ],
   "source": [
    "from sqlalchemy import create_engine, text\n",
    "\n",
    "from dotenv import load_dotenv\n",
    "import os\n",
    "\n",
    "load_dotenv()\n",
    "\n",
    "DATABASE_URL = os.getenv(\"DATABASE_URL\")\n",
    "\n",
    "engine = create_engine(DATABASE_URL)\n",
    "\n",
    "update_team_ids(engine)"
   ]
  },
  {
   "cell_type": "code",
   "execution_count": 6,
   "id": "8ae2e0ad-7806-4878-8cbc-cdc96168985e",
   "metadata": {},
   "outputs": [
    {
     "name": "stdout",
     "output_type": "stream",
     "text": [
      "[{'id': 1610612737, 'full_name': 'Atlanta Hawks', 'abbreviation': 'ATL', 'nickname': 'Hawks', 'city': 'Atlanta', 'state': 'Georgia', 'year_founded': 1949}, {'id': 1610612738, 'full_name': 'Boston Celtics', 'abbreviation': 'BOS', 'nickname': 'Celtics', 'city': 'Boston', 'state': 'Massachusetts', 'year_founded': 1946}, {'id': 1610612739, 'full_name': 'Cleveland Cavaliers', 'abbreviation': 'CLE', 'nickname': 'Cavaliers', 'city': 'Cleveland', 'state': 'Ohio', 'year_founded': 1970}, {'id': 1610612740, 'full_name': 'New Orleans Pelicans', 'abbreviation': 'NOP', 'nickname': 'Pelicans', 'city': 'New Orleans', 'state': 'Louisiana', 'year_founded': 2002}, {'id': 1610612741, 'full_name': 'Chicago Bulls', 'abbreviation': 'CHI', 'nickname': 'Bulls', 'city': 'Chicago', 'state': 'Illinois', 'year_founded': 1966}, {'id': 1610612742, 'full_name': 'Dallas Mavericks', 'abbreviation': 'DAL', 'nickname': 'Mavericks', 'city': 'Dallas', 'state': 'Texas', 'year_founded': 1980}, {'id': 1610612743, 'full_name': 'Denver Nuggets', 'abbreviation': 'DEN', 'nickname': 'Nuggets', 'city': 'Denver', 'state': 'Colorado', 'year_founded': 1976}, {'id': 1610612744, 'full_name': 'Golden State Warriors', 'abbreviation': 'GSW', 'nickname': 'Warriors', 'city': 'Golden State', 'state': 'California', 'year_founded': 1946}, {'id': 1610612745, 'full_name': 'Houston Rockets', 'abbreviation': 'HOU', 'nickname': 'Rockets', 'city': 'Houston', 'state': 'Texas', 'year_founded': 1967}, {'id': 1610612746, 'full_name': 'Los Angeles Clippers', 'abbreviation': 'LAC', 'nickname': 'Clippers', 'city': 'Los Angeles', 'state': 'California', 'year_founded': 1970}, {'id': 1610612747, 'full_name': 'Los Angeles Lakers', 'abbreviation': 'LAL', 'nickname': 'Lakers', 'city': 'Los Angeles', 'state': 'California', 'year_founded': 1948}, {'id': 1610612748, 'full_name': 'Miami Heat', 'abbreviation': 'MIA', 'nickname': 'Heat', 'city': 'Miami', 'state': 'Florida', 'year_founded': 1988}, {'id': 1610612749, 'full_name': 'Milwaukee Bucks', 'abbreviation': 'MIL', 'nickname': 'Bucks', 'city': 'Milwaukee', 'state': 'Wisconsin', 'year_founded': 1968}, {'id': 1610612750, 'full_name': 'Minnesota Timberwolves', 'abbreviation': 'MIN', 'nickname': 'Timberwolves', 'city': 'Minnesota', 'state': 'Minnesota', 'year_founded': 1989}, {'id': 1610612751, 'full_name': 'Brooklyn Nets', 'abbreviation': 'BKN', 'nickname': 'Nets', 'city': 'Brooklyn', 'state': 'New York', 'year_founded': 1976}, {'id': 1610612752, 'full_name': 'New York Knicks', 'abbreviation': 'NYK', 'nickname': 'Knicks', 'city': 'New York', 'state': 'New York', 'year_founded': 1946}, {'id': 1610612753, 'full_name': 'Orlando Magic', 'abbreviation': 'ORL', 'nickname': 'Magic', 'city': 'Orlando', 'state': 'Florida', 'year_founded': 1989}, {'id': 1610612754, 'full_name': 'Indiana Pacers', 'abbreviation': 'IND', 'nickname': 'Pacers', 'city': 'Indiana', 'state': 'Indiana', 'year_founded': 1976}, {'id': 1610612755, 'full_name': 'Philadelphia 76ers', 'abbreviation': 'PHI', 'nickname': '76ers', 'city': 'Philadelphia', 'state': 'Pennsylvania', 'year_founded': 1949}, {'id': 1610612756, 'full_name': 'Phoenix Suns', 'abbreviation': 'PHX', 'nickname': 'Suns', 'city': 'Phoenix', 'state': 'Arizona', 'year_founded': 1968}, {'id': 1610612757, 'full_name': 'Portland Trail Blazers', 'abbreviation': 'POR', 'nickname': 'Trail Blazers', 'city': 'Portland', 'state': 'Oregon', 'year_founded': 1970}, {'id': 1610612758, 'full_name': 'Sacramento Kings', 'abbreviation': 'SAC', 'nickname': 'Kings', 'city': 'Sacramento', 'state': 'California', 'year_founded': 1948}, {'id': 1610612759, 'full_name': 'San Antonio Spurs', 'abbreviation': 'SAS', 'nickname': 'Spurs', 'city': 'San Antonio', 'state': 'Texas', 'year_founded': 1976}, {'id': 1610612760, 'full_name': 'Oklahoma City Thunder', 'abbreviation': 'OKC', 'nickname': 'Thunder', 'city': 'Oklahoma City', 'state': 'Oklahoma', 'year_founded': 1967}, {'id': 1610612761, 'full_name': 'Toronto Raptors', 'abbreviation': 'TOR', 'nickname': 'Raptors', 'city': 'Toronto', 'state': 'Ontario', 'year_founded': 1995}, {'id': 1610612762, 'full_name': 'Utah Jazz', 'abbreviation': 'UTA', 'nickname': 'Jazz', 'city': 'Utah', 'state': 'Utah', 'year_founded': 1974}, {'id': 1610612763, 'full_name': 'Memphis Grizzlies', 'abbreviation': 'MEM', 'nickname': 'Grizzlies', 'city': 'Memphis', 'state': 'Tennessee', 'year_founded': 1995}, {'id': 1610612764, 'full_name': 'Washington Wizards', 'abbreviation': 'WAS', 'nickname': 'Wizards', 'city': 'Washington', 'state': 'District of Columbia', 'year_founded': 1961}, {'id': 1610612765, 'full_name': 'Detroit Pistons', 'abbreviation': 'DET', 'nickname': 'Pistons', 'city': 'Detroit', 'state': 'Michigan', 'year_founded': 1948}, {'id': 1610612766, 'full_name': 'Charlotte Hornets', 'abbreviation': 'CHA', 'nickname': 'Hornets', 'city': 'Charlotte', 'state': 'North Carolina', 'year_founded': 1988}]\n"
     ]
    }
   ],
   "source": [
    "from nba_api.stats.static import teams\n",
    "\n",
    "nba_teams = teams.get_teams()\n",
    "print(nba_teams)"
   ]
  },
  {
   "cell_type": "code",
   "execution_count": 13,
   "id": "b2242d1d-df28-4402-9ab7-1e3f8a554773",
   "metadata": {},
   "outputs": [],
   "source": [
    "def update_team_names(engine):\n",
    "\n",
    "    nba_teams = teams.get_teams()\n",
    "    team_dict = {team['id']: team['full_name'] for team in nba_teams}\n",
    "    print(\"Got teams\")\n",
    "    \n",
    "    query = \"SELECT * FROM all_player_game_stats\"\n",
    "    with engine.connect() as conn:\n",
    "        print(\"Fetching games from database...\")\n",
    "        games_df = pd.read_sql(query, conn)\n",
    "\n",
    "    print(f\"Processing {len(games_df)} records...\")\n",
    "\n",
    "    # Update database with team IDs\n",
    "    with engine.connect() as conn:\n",
    "        with conn.begin():\n",
    "            for index, row in games_df.iterrows():\n",
    "                update_query = text(\"\"\"\n",
    "                    UPDATE all_player_game_stats\n",
    "                    SET \"TEAM_NAME\" = :team_name\n",
    "                    WHERE \"PLAYER_ID\" = :player_id\n",
    "                    AND \"GAME_DATE\" = :game_date\n",
    "                \"\"\")\n",
    "                conn.execute(update_query, {\n",
    "                    'team_name': team_dict[row['TEAM_ID']],\n",
    "                    'player_id': row['PLAYER_ID'],\n",
    "                    'game_date': row['GAME_DATE']\n",
    "                })\n",
    "                if index % 1000 == 0:\n",
    "                    print(f\"Updated {index} records...\")\n",
    "    print(\"Update complete!\")"
   ]
  },
  {
   "cell_type": "code",
   "execution_count": null,
   "id": "e175c629-0cf2-4cd3-b4fd-e1583fb76a52",
   "metadata": {},
   "outputs": [
    {
     "name": "stdout",
     "output_type": "stream",
     "text": [
      "Got teams\n",
      "Fetching games from database...\n",
      "Processing 17388 records...\n",
      "Updated 0 records...\n",
      "Updated 1000 records...\n",
      "Updated 2000 records...\n",
      "Updated 3000 records...\n",
      "Updated 4000 records...\n",
      "Updated 5000 records...\n",
      "Updated 6000 records...\n",
      "Updated 7000 records...\n",
      "Updated 8000 records...\n",
      "Updated 9000 records...\n",
      "Updated 10000 records...\n",
      "Updated 11000 records...\n",
      "Updated 12000 records...\n",
      "Updated 13000 records...\n",
      "Updated 14000 records...\n",
      "Updated 15000 records...\n",
      "Updated 16000 records...\n",
      "Updated 17000 records...\n",
      "Update complete!\n"
     ]
    }
   ],
   "source": [
    "from sqlalchemy import create_engine, text\n",
    "from dotenv import load_dotenv\n",
    "import os\n",
    "\n",
    "load_dotenv()\n",
    "\n",
    "DATABASE_URL = os.getenv(\"DATABASE_URL\")\n",
    "\n",
    "engine = create_engine(DATABASE_URL)\n",
    "\n",
    "update_team_names(engine)"
   ]
  },
  {
   "cell_type": "code",
   "execution_count": null,
   "id": "1e5169e0-1ef9-40ee-8410-86ec0ea25e6a",
   "metadata": {},
   "outputs": [],
   "source": []
  }
 ],
 "metadata": {
  "kernelspec": {
   "display_name": "base",
   "language": "python",
   "name": "python3"
  },
  "language_info": {
   "codemirror_mode": {
    "name": "ipython",
    "version": 3
   },
   "file_extension": ".py",
   "mimetype": "text/x-python",
   "name": "python",
   "nbconvert_exporter": "python",
   "pygments_lexer": "ipython3",
   "version": "3.12.7"
  }
 },
 "nbformat": 4,
 "nbformat_minor": 5
}
