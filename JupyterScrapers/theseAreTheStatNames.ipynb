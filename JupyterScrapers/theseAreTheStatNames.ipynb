{
 "cells": [
  {
   "cell_type": "code",
   "execution_count": null,
   "id": "43472237-ef67-4271-9555-ae5d3e5f69af",
   "metadata": {},
   "outputs": [],
   "source": [
    "PLAYERS\n",
    "# # Game Statistics\n",
    "# GP = # Games Played \n",
    "# GS = # Games Started\n",
    "# MIN = # Minutes Played\n",
    "\n",
    "# # Shooting\n",
    "# FGM = # Field Goals Made\n",
    "# FGA = # Field Goals Attempted  \n",
    "# FG_PCT = # Field Goal Percentage\n",
    "# FG3M = # Three Pointers Made\n",
    "# FG3A = # Three Pointers Attempted\n",
    "# FG3_PCT = # Three Point Percentage\n",
    "# FTM = # Free Throws Made\n",
    "# FTA = # Free Throws Attempted\n",
    "# FT_PCT = # Free Throw Percentage\n",
    "\n",
    "# # Rebounds\n",
    "# OREB = # Offensive Rebounds\n",
    "# DREB = # Defensive Rebounds\n",
    "# REB = # Total Rebounds\n",
    "\n",
    "# # Other Stats\n",
    "# AST = # Assists\n",
    "# STL = # Steals\n",
    "# BLK = # Blocks\n",
    "# TOV = # Turnovers\n",
    "# PF = # Personal Fouls\n",
    "# PTS = # Points"
   ]
  },
  {
   "cell_type": "code",
   "execution_count": 3,
   "id": "6db85d15-932a-469f-9626-fd73e1971f82",
   "metadata": {},
   "outputs": [
    {
     "ename": "NameError",
     "evalue": "name 'TEAMS' is not defined",
     "output_type": "error",
     "traceback": [
      "\u001b[1;31m---------------------------------------------------------------------------\u001b[0m",
      "\u001b[1;31mNameError\u001b[0m                                 Traceback (most recent call last)",
      "Cell \u001b[1;32mIn[3], line 1\u001b[0m\n\u001b[1;32m----> 1\u001b[0m \u001b[43mTEAMS\u001b[49m\n\u001b[0;32m      2\u001b[0m \u001b[38;5;66;03m# Game Statistics:\u001b[39;00m\n\u001b[0;32m      3\u001b[0m \n\u001b[0;32m      4\u001b[0m \u001b[38;5;66;03m# GP: Games Played (45 games)\u001b[39;00m\n\u001b[1;32m   (...)\u001b[0m\n\u001b[0;32m     33\u001b[0m \u001b[38;5;66;03m# PTS: Total Points (5,233)\u001b[39;00m\n\u001b[0;32m     34\u001b[0m \u001b[38;5;66;03m# PLUS_MINUS: Point Differential (-119)\u001b[39;00m\n",
      "\u001b[1;31mNameError\u001b[0m: name 'TEAMS' is not defined"
     ]
    }
   ],
   "source": [
    "TEAMS\n",
    "# Game Statistics:\n",
    "\n",
    "# GP: Games Played (45 games)\n",
    "# W/L: Wins/Losses (22-23 record)\n",
    "# W_PCT: Win Percentage (0.489 or 48.9%)\n",
    "# MIN: Total Minutes Played (2,175)\n",
    "\n",
    "# Shooting:\n",
    "\n",
    "# FGM/FGA: Field Goals Made/Attempted (1,908/4,148)\n",
    "# FG_PCT: Field Goal Percentage (46%)\n",
    "# FG3M/FG3A: Three Pointers Made/Attempted (578/1,663)\n",
    "# FG3_PCT: Three Point Percentage (34.8%)\n",
    "# FTM/FTA: Free Throws Made/Attempted (839/1,080)\n",
    "# FT_PCT: Free Throw Percentage (77.7%)\n",
    "\n",
    "# Rebounds:\n",
    "\n",
    "# OREB: Offensive Rebounds (551)\n",
    "# DREB: Defensive Rebounds (1,491)\n",
    "# REB: Total Rebounds (2,042)\n",
    "\n",
    "# Other Stats:\n",
    "\n",
    "# AST: Assists (1,320)\n",
    "# TOV: Turnovers (729)\n",
    "# STL: Steals (470)\n",
    "# BLK: Blocks (237)\n",
    "# BLKA: Shots Blocked Against (246)\n",
    "# PF: Personal Fouls Committed (831)\n",
    "# PFD: Personal Fouls Drawn (897)\n",
    "# PTS: Total Points (5,233)\n",
    "# PLUS_MINUS: Point Differential (-119)"
   ]
  },
  {
   "cell_type": "code",
   "execution_count": null,
   "id": "ed813068-3df3-450b-a57d-bb809f84e275",
   "metadata": {},
   "outputs": [],
   "source": [
    "# Game and Player Base Stats\n",
    "GP = # Games Played (games participated in)\n",
    "GS = # Games Started (games in starting lineup)\n",
    "MIN = # Minutes Played (total time on court)\n",
    "\n",
    "# Shooting Breakdown\n",
    "FGM/FGA = # Field Goals Made/Attempted (all shots except free throws)\n",
    "FG_PCT = # Field Goal Percentage (FGM/FGA)\n",
    "FG3M/FG3A = # Three Pointers Made/Attempted (shots beyond 3pt line)\n",
    "FG3_PCT = # Three Point Percentage (FG3M/FG3A)\n",
    "FTM/FTA = # Free Throws Made/Attempted (uncontested shots from foul line)\n",
    "FT_PCT = # Free Throw Percentage (FTM/FTA)\n",
    "\n",
    "# Rebound Stats (ball recoveries after missed shots)\n",
    "OREB = # Offensive Rebounds (rebounds on offense)\n",
    "DREB = # Defensive Rebounds (rebounds on defense)\n",
    "REB = # Total Rebounds (OREB + DREB)\n",
    "\n",
    "# Efficiency & Performance \n",
    "E_OFF_RATING = # Points scored per 100 possessions\n",
    "E_DEF_RATING = # Points allowed per 100 possessions\n",
    "E_NET_RATING = # Difference between off/def rating\n",
    "E_AST_RATIO = # Assists per 100 possessions\n",
    "E_OREB_PCT = # % of available offensive rebounds grabbed\n",
    "E_DREB_PCT = # % of available defensive rebounds grabbed\n",
    "E_REB_PCT = # % of total available rebounds grabbed\n",
    "E_TOV_PCT = # Turnovers per 100 possessions\n",
    "E_USG_PCT = # % of team plays used by player\n",
    "E_PACE = # Possessions per 48 minutes\n",
    "\n",
    "# Game Impact Stats\n",
    "AST = # Assists (passes leading to scores)\n",
    "STL = # Steals (taking ball from opponent)\n",
    "BLK = # Blocks (stopping opponent's shots)\n",
    "TOV = # Turnovers (losing ball to opponent)\n",
    "PF = # Personal Fouls (rules violations)\n",
    "PTS = # Points Scored (total points)\n",
    "\n",
    "# Rankings (1 is best)\n",
    "[Stat]_RANK = # Player's rank in respective stat category"
   ]
  },
  {
   "cell_type": "code",
   "execution_count": null,
   "id": "82845700-40cf-442d-a644-a8d7fc595083",
   "metadata": {},
   "outputs": [],
   "source": []
  },
  {
   "cell_type": "code",
   "execution_count": null,
   "id": "f1b9f0e7-e911-4afc-9cbf-2331e4410a83",
   "metadata": {},
   "outputs": [],
   "source": []
  },
  {
   "cell_type": "code",
   "execution_count": null,
   "id": "11184a20-a016-4046-920e-3ae8e1f64482",
   "metadata": {},
   "outputs": [],
   "source": []
  },
  {
   "cell_type": "code",
   "execution_count": null,
   "id": "121badf5-18ac-4479-96df-eac99f5c2455",
   "metadata": {},
   "outputs": [],
   "source": []
  },
  {
   "cell_type": "code",
   "execution_count": null,
   "id": "12cc13c2-9293-4eee-a493-6545a3393a02",
   "metadata": {},
   "outputs": [],
   "source": []
  },
  {
   "cell_type": "code",
   "execution_count": null,
   "id": "cbd52f00-7272-4af9-9f62-8bf5702d9053",
   "metadata": {},
   "outputs": [],
   "source": []
  }
 ],
 "metadata": {
  "kernelspec": {
   "display_name": "Python 3 (ipykernel)",
   "language": "python",
   "name": "python3"
  },
  "language_info": {
   "codemirror_mode": {
    "name": "ipython",
    "version": 3
   },
   "file_extension": ".py",
   "mimetype": "text/x-python",
   "name": "python",
   "nbconvert_exporter": "python",
   "pygments_lexer": "ipython3",
   "version": "3.12.3"
  }
 },
 "nbformat": 4,
 "nbformat_minor": 5
}
